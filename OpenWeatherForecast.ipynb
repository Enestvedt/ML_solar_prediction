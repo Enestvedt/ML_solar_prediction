{
 "cells": [
  {
   "cell_type": "code",
   "execution_count": 1,
   "source": [
    "# Dependencies\n",
    "import json\n",
    "import requests\n",
    "from config import api_key"
   ],
   "outputs": [],
   "metadata": {
    "collapsed": true
   }
  },
  {
   "cell_type": "code",
   "execution_count": 5,
   "source": [
    "# Save config information\n",
    "url = \"http://api.openweathermap.org/data/2.5/weather?\"\n",
    "city = \"Minneapolis\"\n",
    "state = \"MN\"\n",
    "# Build query URL\n",
    "query_url = url + \"appid=\" + api_key + \"&q=\" + city"
   ],
   "outputs": [],
   "metadata": {
    "collapsed": true
   }
  },
  {
   "cell_type": "code",
   "execution_count": 4,
   "source": [
    "# Get weather data\n",
    "weather_response = requests.get(query_url)\n",
    "weather_json = weather_response.json()\n",
    "\n",
    "# Get the temperature from the response\n",
    "print(f\"The weather API responded with: {weather_json}.\")"
   ],
   "outputs": [
    {
     "output_type": "stream",
     "name": "stdout",
     "text": [
      "The weather API responded with: {'coord': {'lon': -93.2638, 'lat': 44.98}, 'weather': [{'id': 801, 'main': 'Clouds', 'description': 'few clouds', 'icon': '02d'}], 'base': 'stations', 'main': {'temp': 298.5, 'feels_like': 298.4, 'temp_min': 296.71, 'temp_max': 300.44, 'pressure': 1017, 'humidity': 50}, 'visibility': 10000, 'wind': {'speed': 0.89, 'deg': 188, 'gust': 4.02}, 'clouds': {'all': 20}, 'dt': 1630525279, 'sys': {'type': 2, 'id': 2008025, 'country': 'US', 'sunrise': 1630496137, 'sunset': 1630543844}, 'timezone': -18000, 'id': 5037649, 'name': 'Minneapolis', 'cod': 200}.\n"
     ]
    }
   ],
   "metadata": {}
  },
  {
   "cell_type": "code",
   "execution_count": 11,
   "source": [
    "forecast_url = f'http://api.openweathermap.org/data/2.5/forecast?q={city},&appid={api_key}'"
   ],
   "outputs": [],
   "metadata": {}
  },
  {
   "cell_type": "code",
   "execution_count": 12,
   "source": [
    "# Get weather data\n",
    "weather_response = requests.get(forecast_url)\n",
    "weather_json = weather_response.json()\n",
    "\n",
    "# Get the temperature from the response\n",
    "print(f\"The weather API responded with: {weather_json}.\")"
   ],
   "outputs": [
    {
     "output_type": "stream",
     "name": "stdout",
     "text": [
      "The weather API responded with: {'cod': '200', 'message': 0, 'cnt': 40, 'list': [{'dt': 1630530000, 'main': {'temp': 298.7, 'feels_like': 298.62, 'temp_min': 298.7, 'temp_max': 300.36, 'pressure': 1017, 'sea_level': 1017, 'grnd_level': 986, 'humidity': 50, 'temp_kf': -1.66}, 'weather': [{'id': 803, 'main': 'Clouds', 'description': 'broken clouds', 'icon': '04d'}], 'clouds': {'all': 66}, 'wind': {'speed': 3.31, 'deg': 152, 'gust': 3.26}, 'visibility': 10000, 'pop': 0, 'sys': {'pod': 'd'}, 'dt_txt': '2021-09-01 21:00:00'}, {'dt': 1630540800, 'main': {'temp': 298.41, 'feels_like': 298.27, 'temp_min': 297.83, 'temp_max': 298.41, 'pressure': 1016, 'sea_level': 1016, 'grnd_level': 986, 'humidity': 49, 'temp_kf': 0.58}, 'weather': [{'id': 803, 'main': 'Clouds', 'description': 'broken clouds', 'icon': '04d'}], 'clouds': {'all': 68}, 'wind': {'speed': 3.26, 'deg': 150, 'gust': 4.83}, 'visibility': 10000, 'pop': 0, 'sys': {'pod': 'd'}, 'dt_txt': '2021-09-02 00:00:00'}, {'dt': 1630551600, 'main': {'temp': 295.41, 'feels_like': 295.15, 'temp_min': 293.76, 'temp_max': 295.41, 'pressure': 1016, 'sea_level': 1016, 'grnd_level': 987, 'humidity': 56, 'temp_kf': 1.65}, 'weather': [{'id': 803, 'main': 'Clouds', 'description': 'broken clouds', 'icon': '04n'}], 'clouds': {'all': 51}, 'wind': {'speed': 2.77, 'deg': 155, 'gust': 7.56}, 'visibility': 10000, 'pop': 0, 'sys': {'pod': 'n'}, 'dt_txt': '2021-09-02 03:00:00'}, {'dt': 1630562400, 'main': {'temp': 291.46, 'feels_like': 291.1, 'temp_min': 291.46, 'temp_max': 291.46, 'pressure': 1018, 'sea_level': 1018, 'grnd_level': 988, 'humidity': 67, 'temp_kf': 0}, 'weather': [{'id': 803, 'main': 'Clouds', 'description': 'broken clouds', 'icon': '04n'}], 'clouds': {'all': 69}, 'wind': {'speed': 2.51, 'deg': 149, 'gust': 7}, 'visibility': 10000, 'pop': 0, 'sys': {'pod': 'n'}, 'dt_txt': '2021-09-02 06:00:00'}, {'dt': 1630573200, 'main': {'temp': 290.41, 'feels_like': 289.94, 'temp_min': 290.41, 'temp_max': 290.41, 'pressure': 1018, 'sea_level': 1018, 'grnd_level': 988, 'humidity': 67, 'temp_kf': 0}, 'weather': [{'id': 804, 'main': 'Clouds', 'description': 'overcast clouds', 'icon': '04n'}], 'clouds': {'all': 98}, 'wind': {'speed': 2.8, 'deg': 132, 'gust': 7.28}, 'visibility': 10000, 'pop': 0, 'sys': {'pod': 'n'}, 'dt_txt': '2021-09-02 09:00:00'}, {'dt': 1630584000, 'main': {'temp': 289.36, 'feels_like': 288.58, 'temp_min': 289.36, 'temp_max': 289.36, 'pressure': 1019, 'sea_level': 1019, 'grnd_level': 989, 'humidity': 59, 'temp_kf': 0}, 'weather': [{'id': 804, 'main': 'Clouds', 'description': 'overcast clouds', 'icon': '04d'}], 'clouds': {'all': 99}, 'wind': {'speed': 2.82, 'deg': 151, 'gust': 7.78}, 'visibility': 10000, 'pop': 0, 'sys': {'pod': 'd'}, 'dt_txt': '2021-09-02 12:00:00'}, {'dt': 1630594800, 'main': {'temp': 291.37, 'feels_like': 290.63, 'temp_min': 291.37, 'temp_max': 291.37, 'pressure': 1018, 'sea_level': 1018, 'grnd_level': 989, 'humidity': 53, 'temp_kf': 0}, 'weather': [{'id': 804, 'main': 'Clouds', 'description': 'overcast clouds', 'icon': '04d'}], 'clouds': {'all': 100}, 'wind': {'speed': 4.47, 'deg': 148, 'gust': 9.16}, 'visibility': 10000, 'pop': 0, 'sys': {'pod': 'd'}, 'dt_txt': '2021-09-02 15:00:00'}, {'dt': 1630605600, 'main': {'temp': 293.49, 'feels_like': 293.02, 'temp_min': 293.49, 'temp_max': 293.49, 'pressure': 1018, 'sea_level': 1018, 'grnd_level': 989, 'humidity': 55, 'temp_kf': 0}, 'weather': [{'id': 804, 'main': 'Clouds', 'description': 'overcast clouds', 'icon': '04d'}], 'clouds': {'all': 100}, 'wind': {'speed': 4.31, 'deg': 150, 'gust': 7.43}, 'visibility': 10000, 'pop': 0, 'sys': {'pod': 'd'}, 'dt_txt': '2021-09-02 18:00:00'}, {'dt': 1630616400, 'main': {'temp': 295.6, 'feels_like': 295.23, 'temp_min': 295.6, 'temp_max': 295.6, 'pressure': 1017, 'sea_level': 1017, 'grnd_level': 988, 'humidity': 51, 'temp_kf': 0}, 'weather': [{'id': 804, 'main': 'Clouds', 'description': 'overcast clouds', 'icon': '04d'}], 'clouds': {'all': 100}, 'wind': {'speed': 4.68, 'deg': 149, 'gust': 6.45}, 'visibility': 10000, 'pop': 0, 'sys': {'pod': 'd'}, 'dt_txt': '2021-09-02 21:00:00'}, {'dt': 1630627200, 'main': {'temp': 293.63, 'feels_like': 293.09, 'temp_min': 293.63, 'temp_max': 293.63, 'pressure': 1015, 'sea_level': 1015, 'grnd_level': 986, 'humidity': 52, 'temp_kf': 0}, 'weather': [{'id': 804, 'main': 'Clouds', 'description': 'overcast clouds', 'icon': '04d'}], 'clouds': {'all': 100}, 'wind': {'speed': 4.35, 'deg': 140, 'gust': 9.43}, 'visibility': 10000, 'pop': 0.13, 'sys': {'pod': 'd'}, 'dt_txt': '2021-09-03 00:00:00'}, {'dt': 1630638000, 'main': {'temp': 292.66, 'feels_like': 292.21, 'temp_min': 292.66, 'temp_max': 292.66, 'pressure': 1015, 'sea_level': 1015, 'grnd_level': 986, 'humidity': 59, 'temp_kf': 0}, 'weather': [{'id': 500, 'main': 'Rain', 'description': 'light rain', 'icon': '10n'}], 'clouds': {'all': 100}, 'wind': {'speed': 5.28, 'deg': 136, 'gust': 12.56}, 'visibility': 10000, 'pop': 0.51, 'rain': {'3h': 0.44}, 'sys': {'pod': 'n'}, 'dt_txt': '2021-09-03 03:00:00'}, {'dt': 1630648800, 'main': {'temp': 288.99, 'feels_like': 288.98, 'temp_min': 288.99, 'temp_max': 288.99, 'pressure': 1013, 'sea_level': 1013, 'grnd_level': 984, 'humidity': 90, 'temp_kf': 0}, 'weather': [{'id': 500, 'main': 'Rain', 'description': 'light rain', 'icon': '10n'}], 'clouds': {'all': 100}, 'wind': {'speed': 5.66, 'deg': 131, 'gust': 13.79}, 'visibility': 8341, 'pop': 0.84, 'rain': {'3h': 2.41}, 'sys': {'pod': 'n'}, 'dt_txt': '2021-09-03 06:00:00'}, {'dt': 1630659600, 'main': {'temp': 288.56, 'feels_like': 288.61, 'temp_min': 288.56, 'temp_max': 288.56, 'pressure': 1013, 'sea_level': 1013, 'grnd_level': 983, 'humidity': 94, 'temp_kf': 0}, 'weather': [{'id': 501, 'main': 'Rain', 'description': 'moderate rain', 'icon': '10n'}], 'clouds': {'all': 100}, 'wind': {'speed': 4.68, 'deg': 131, 'gust': 13.79}, 'visibility': 9457, 'pop': 1, 'rain': {'3h': 5.56}, 'sys': {'pod': 'n'}, 'dt_txt': '2021-09-03 09:00:00'}, {'dt': 1630670400, 'main': {'temp': 289.58, 'feels_like': 289.76, 'temp_min': 289.58, 'temp_max': 289.58, 'pressure': 1012, 'sea_level': 1012, 'grnd_level': 983, 'humidity': 95, 'temp_kf': 0}, 'weather': [{'id': 500, 'main': 'Rain', 'description': 'light rain', 'icon': '10d'}], 'clouds': {'all': 100}, 'wind': {'speed': 4.62, 'deg': 151, 'gust': 11.77}, 'visibility': 10000, 'pop': 1, 'rain': {'3h': 1.78}, 'sys': {'pod': 'd'}, 'dt_txt': '2021-09-03 12:00:00'}, {'dt': 1630681200, 'main': {'temp': 289.74, 'feels_like': 289.96, 'temp_min': 289.74, 'temp_max': 289.74, 'pressure': 1013, 'sea_level': 1013, 'grnd_level': 983, 'humidity': 96, 'temp_kf': 0}, 'weather': [{'id': 500, 'main': 'Rain', 'description': 'light rain', 'icon': '10d'}], 'clouds': {'all': 100}, 'wind': {'speed': 3.54, 'deg': 153, 'gust': 9.13}, 'visibility': 10000, 'pop': 0.92, 'rain': {'3h': 0.69}, 'sys': {'pod': 'd'}, 'dt_txt': '2021-09-03 15:00:00'}, {'dt': 1630692000, 'main': {'temp': 290.04, 'feels_like': 290.32, 'temp_min': 290.04, 'temp_max': 290.04, 'pressure': 1013, 'sea_level': 1013, 'grnd_level': 983, 'humidity': 97, 'temp_kf': 0}, 'weather': [{'id': 500, 'main': 'Rain', 'description': 'light rain', 'icon': '10d'}], 'clouds': {'all': 100}, 'wind': {'speed': 2.44, 'deg': 141, 'gust': 6.66}, 'visibility': 10000, 'pop': 0.87, 'rain': {'3h': 0.86}, 'sys': {'pod': 'd'}, 'dt_txt': '2021-09-03 18:00:00'}, {'dt': 1630702800, 'main': {'temp': 290.4, 'feels_like': 290.71, 'temp_min': 290.4, 'temp_max': 290.4, 'pressure': 1012, 'sea_level': 1012, 'grnd_level': 983, 'humidity': 97, 'temp_kf': 0}, 'weather': [{'id': 804, 'main': 'Clouds', 'description': 'overcast clouds', 'icon': '04d'}], 'clouds': {'all': 100}, 'wind': {'speed': 2.29, 'deg': 122, 'gust': 5.03}, 'visibility': 10000, 'pop': 0, 'sys': {'pod': 'd'}, 'dt_txt': '2021-09-03 21:00:00'}, {'dt': 1630713600, 'main': {'temp': 290.08, 'feels_like': 290.39, 'temp_min': 290.08, 'temp_max': 290.08, 'pressure': 1012, 'sea_level': 1012, 'grnd_level': 983, 'humidity': 98, 'temp_kf': 0}, 'weather': [{'id': 500, 'main': 'Rain', 'description': 'light rain', 'icon': '10d'}], 'clouds': {'all': 100}, 'wind': {'speed': 1.87, 'deg': 98, 'gust': 4.16}, 'visibility': 10000, 'pop': 0.2, 'rain': {'3h': 0.12}, 'sys': {'pod': 'd'}, 'dt_txt': '2021-09-04 00:00:00'}, {'dt': 1630724400, 'main': {'temp': 290.09, 'feels_like': 290.4, 'temp_min': 290.09, 'temp_max': 290.09, 'pressure': 1012, 'sea_level': 1012, 'grnd_level': 983, 'humidity': 98, 'temp_kf': 0}, 'weather': [{'id': 500, 'main': 'Rain', 'description': 'light rain', 'icon': '10n'}], 'clouds': {'all': 100}, 'wind': {'speed': 2, 'deg': 117, 'gust': 4.52}, 'visibility': 10000, 'pop': 0.28, 'rain': {'3h': 0.32}, 'sys': {'pod': 'n'}, 'dt_txt': '2021-09-04 03:00:00'}, {'dt': 1630735200, 'main': {'temp': 290.22, 'feels_like': 290.54, 'temp_min': 290.22, 'temp_max': 290.22, 'pressure': 1013, 'sea_level': 1013, 'grnd_level': 983, 'humidity': 98, 'temp_kf': 0}, 'weather': [{'id': 804, 'main': 'Clouds', 'description': 'overcast clouds', 'icon': '04n'}], 'clouds': {'all': 100}, 'wind': {'speed': 0.5, 'deg': 308, 'gust': 1.06}, 'visibility': 10000, 'pop': 0, 'sys': {'pod': 'n'}, 'dt_txt': '2021-09-04 06:00:00'}, {'dt': 1630746000, 'main': {'temp': 290.12, 'feels_like': 290.43, 'temp_min': 290.12, 'temp_max': 290.12, 'pressure': 1011, 'sea_level': 1011, 'grnd_level': 981, 'humidity': 98, 'temp_kf': 0}, 'weather': [{'id': 804, 'main': 'Clouds', 'description': 'overcast clouds', 'icon': '04n'}], 'clouds': {'all': 100}, 'wind': {'speed': 0.87, 'deg': 36, 'gust': 1.8}, 'visibility': 10000, 'pop': 0.11, 'sys': {'pod': 'n'}, 'dt_txt': '2021-09-04 09:00:00'}, {'dt': 1630756800, 'main': {'temp': 290.07, 'feels_like': 290.38, 'temp_min': 290.07, 'temp_max': 290.07, 'pressure': 1010, 'sea_level': 1010, 'grnd_level': 981, 'humidity': 98, 'temp_kf': 0}, 'weather': [{'id': 804, 'main': 'Clouds', 'description': 'overcast clouds', 'icon': '04d'}], 'clouds': {'all': 100}, 'wind': {'speed': 1.31, 'deg': 264, 'gust': 2.43}, 'visibility': 10000, 'pop': 0, 'sys': {'pod': 'd'}, 'dt_txt': '2021-09-04 12:00:00'}, {'dt': 1630767600, 'main': {'temp': 291.06, 'feels_like': 291.2, 'temp_min': 291.06, 'temp_max': 291.06, 'pressure': 1011, 'sea_level': 1011, 'grnd_level': 981, 'humidity': 88, 'temp_kf': 0}, 'weather': [{'id': 500, 'main': 'Rain', 'description': 'light rain', 'icon': '10d'}], 'clouds': {'all': 98}, 'wind': {'speed': 3.17, 'deg': 289, 'gust': 7.08}, 'visibility': 10000, 'pop': 0.2, 'rain': {'3h': 0.11}, 'sys': {'pod': 'd'}, 'dt_txt': '2021-09-04 15:00:00'}, {'dt': 1630778400, 'main': {'temp': 294, 'feels_like': 293.92, 'temp_min': 294, 'temp_max': 294, 'pressure': 1010, 'sea_level': 1010, 'grnd_level': 981, 'humidity': 68, 'temp_kf': 0}, 'weather': [{'id': 500, 'main': 'Rain', 'description': 'light rain', 'icon': '10d'}], 'clouds': {'all': 97}, 'wind': {'speed': 4.35, 'deg': 302, 'gust': 6.57}, 'visibility': 10000, 'pop': 0.4, 'rain': {'3h': 0.16}, 'sys': {'pod': 'd'}, 'dt_txt': '2021-09-04 18:00:00'}, {'dt': 1630789200, 'main': {'temp': 296.27, 'feels_like': 295.86, 'temp_min': 296.27, 'temp_max': 296.27, 'pressure': 1010, 'sea_level': 1010, 'grnd_level': 981, 'humidity': 47, 'temp_kf': 0}, 'weather': [{'id': 500, 'main': 'Rain', 'description': 'light rain', 'icon': '10d'}], 'clouds': {'all': 59}, 'wind': {'speed': 4.55, 'deg': 325, 'gust': 8.12}, 'visibility': 10000, 'pop': 0.52, 'rain': {'3h': 0.49}, 'sys': {'pod': 'd'}, 'dt_txt': '2021-09-04 21:00:00'}, {'dt': 1630800000, 'main': {'temp': 294.75, 'feels_like': 294.19, 'temp_min': 294.75, 'temp_max': 294.75, 'pressure': 1010, 'sea_level': 1010, 'grnd_level': 981, 'humidity': 47, 'temp_kf': 0}, 'weather': [{'id': 802, 'main': 'Clouds', 'description': 'scattered clouds', 'icon': '03d'}], 'clouds': {'all': 32}, 'wind': {'speed': 4.32, 'deg': 304, 'gust': 8.44}, 'visibility': 10000, 'pop': 0.2, 'sys': {'pod': 'd'}, 'dt_txt': '2021-09-05 00:00:00'}, {'dt': 1630810800, 'main': {'temp': 291.12, 'feels_like': 290.62, 'temp_min': 291.12, 'temp_max': 291.12, 'pressure': 1010, 'sea_level': 1010, 'grnd_level': 981, 'humidity': 63, 'temp_kf': 0}, 'weather': [{'id': 800, 'main': 'Clear', 'description': 'clear sky', 'icon': '01n'}], 'clouds': {'all': 0}, 'wind': {'speed': 2.64, 'deg': 268, 'gust': 8.33}, 'visibility': 10000, 'pop': 0, 'sys': {'pod': 'n'}, 'dt_txt': '2021-09-05 03:00:00'}, {'dt': 1630821600, 'main': {'temp': 290.25, 'feels_like': 289.71, 'temp_min': 290.25, 'temp_max': 290.25, 'pressure': 1010, 'sea_level': 1010, 'grnd_level': 981, 'humidity': 65, 'temp_kf': 0}, 'weather': [{'id': 800, 'main': 'Clear', 'description': 'clear sky', 'icon': '01n'}], 'clouds': {'all': 1}, 'wind': {'speed': 3.12, 'deg': 239, 'gust': 10.6}, 'visibility': 10000, 'pop': 0, 'sys': {'pod': 'n'}, 'dt_txt': '2021-09-05 06:00:00'}, {'dt': 1630832400, 'main': {'temp': 289.73, 'feels_like': 289.06, 'temp_min': 289.73, 'temp_max': 289.73, 'pressure': 1009, 'sea_level': 1009, 'grnd_level': 979, 'humidity': 62, 'temp_kf': 0}, 'weather': [{'id': 801, 'main': 'Clouds', 'description': 'few clouds', 'icon': '02n'}], 'clouds': {'all': 14}, 'wind': {'speed': 4.24, 'deg': 238, 'gust': 13.79}, 'visibility': 10000, 'pop': 0, 'sys': {'pod': 'n'}, 'dt_txt': '2021-09-05 09:00:00'}, {'dt': 1630843200, 'main': {'temp': 289.24, 'feels_like': 288.55, 'temp_min': 289.24, 'temp_max': 289.24, 'pressure': 1009, 'sea_level': 1009, 'grnd_level': 979, 'humidity': 63, 'temp_kf': 0}, 'weather': [{'id': 801, 'main': 'Clouds', 'description': 'few clouds', 'icon': '02d'}], 'clouds': {'all': 21}, 'wind': {'speed': 3.96, 'deg': 252, 'gust': 14.54}, 'visibility': 10000, 'pop': 0, 'sys': {'pod': 'd'}, 'dt_txt': '2021-09-05 12:00:00'}, {'dt': 1630854000, 'main': {'temp': 293.2, 'feels_like': 292.59, 'temp_min': 293.2, 'temp_max': 293.2, 'pressure': 1009, 'sea_level': 1009, 'grnd_level': 980, 'humidity': 51, 'temp_kf': 0}, 'weather': [{'id': 803, 'main': 'Clouds', 'description': 'broken clouds', 'icon': '04d'}], 'clouds': {'all': 52}, 'wind': {'speed': 5.43, 'deg': 292, 'gust': 9.39}, 'visibility': 10000, 'pop': 0, 'sys': {'pod': 'd'}, 'dt_txt': '2021-09-05 15:00:00'}, {'dt': 1630864800, 'main': {'temp': 296.57, 'feels_like': 296.01, 'temp_min': 296.57, 'temp_max': 296.57, 'pressure': 1009, 'sea_level': 1009, 'grnd_level': 980, 'humidity': 40, 'temp_kf': 0}, 'weather': [{'id': 802, 'main': 'Clouds', 'description': 'scattered clouds', 'icon': '03d'}], 'clouds': {'all': 28}, 'wind': {'speed': 4.9, 'deg': 313, 'gust': 8.9}, 'visibility': 10000, 'pop': 0, 'sys': {'pod': 'd'}, 'dt_txt': '2021-09-05 18:00:00'}, {'dt': 1630875600, 'main': {'temp': 297.06, 'feels_like': 296.42, 'temp_min': 297.06, 'temp_max': 297.06, 'pressure': 1009, 'sea_level': 1009, 'grnd_level': 980, 'humidity': 35, 'temp_kf': 0}, 'weather': [{'id': 800, 'main': 'Clear', 'description': 'clear sky', 'icon': '01d'}], 'clouds': {'all': 0}, 'wind': {'speed': 4.69, 'deg': 314, 'gust': 7.32}, 'visibility': 10000, 'pop': 0, 'sys': {'pod': 'd'}, 'dt_txt': '2021-09-05 21:00:00'}, {'dt': 1630886400, 'main': {'temp': 294.32, 'feels_like': 293.62, 'temp_min': 294.32, 'temp_max': 294.32, 'pressure': 1009, 'sea_level': 1009, 'grnd_level': 980, 'humidity': 43, 'temp_kf': 0}, 'weather': [{'id': 802, 'main': 'Clouds', 'description': 'scattered clouds', 'icon': '03d'}], 'clouds': {'all': 33}, 'wind': {'speed': 3.05, 'deg': 330, 'gust': 5.6}, 'visibility': 10000, 'pop': 0, 'sys': {'pod': 'd'}, 'dt_txt': '2021-09-06 00:00:00'}, {'dt': 1630897200, 'main': {'temp': 291.04, 'feels_like': 290.27, 'temp_min': 291.04, 'temp_max': 291.04, 'pressure': 1011, 'sea_level': 1011, 'grnd_level': 981, 'humidity': 53, 'temp_kf': 0}, 'weather': [{'id': 804, 'main': 'Clouds', 'description': 'overcast clouds', 'icon': '04n'}], 'clouds': {'all': 99}, 'wind': {'speed': 2.07, 'deg': 318, 'gust': 5.82}, 'visibility': 10000, 'pop': 0, 'sys': {'pod': 'n'}, 'dt_txt': '2021-09-06 03:00:00'}, {'dt': 1630908000, 'main': {'temp': 289, 'feels_like': 288.16, 'temp_min': 289, 'temp_max': 289, 'pressure': 1011, 'sea_level': 1011, 'grnd_level': 982, 'humidity': 58, 'temp_kf': 0}, 'weather': [{'id': 804, 'main': 'Clouds', 'description': 'overcast clouds', 'icon': '04d'}], 'clouds': {'all': 99}, 'wind': {'speed': 1.54, 'deg': 31, 'gust': 3.19}, 'visibility': 10000, 'pop': 0, 'sys': {'pod': 'd'}, 'dt_txt': '2021-09-06 06:00:00'}, {'dt': 1630918800, 'main': {'temp': 287.57, 'feels_like': 286.66, 'temp_min': 287.57, 'temp_max': 287.57, 'pressure': 1011, 'sea_level': 1011, 'grnd_level': 982, 'humidity': 61, 'temp_kf': 0}, 'weather': [{'id': 804, 'main': 'Clouds', 'description': 'overcast clouds', 'icon': '04d'}], 'clouds': {'all': 99}, 'wind': {'speed': 1.12, 'deg': 105, 'gust': 1.4}, 'visibility': 10000, 'pop': 0, 'sys': {'pod': 'd'}, 'dt_txt': '2021-09-06 09:00:00'}, {'dt': 1630929600, 'main': {'temp': 286.76, 'feels_like': 285.87, 'temp_min': 286.76, 'temp_max': 286.76, 'pressure': 1012, 'sea_level': 1012, 'grnd_level': 982, 'humidity': 65, 'temp_kf': 0}, 'weather': [{'id': 804, 'main': 'Clouds', 'description': 'overcast clouds', 'icon': '04d'}], 'clouds': {'all': 91}, 'wind': {'speed': 1.36, 'deg': 187, 'gust': 2.32}, 'visibility': 10000, 'pop': 0, 'sys': {'pod': 'd'}, 'dt_txt': '2021-09-06 12:00:00'}, {'dt': 1630940400, 'main': {'temp': 292.24, 'feels_like': 291.51, 'temp_min': 292.24, 'temp_max': 292.24, 'pressure': 1012, 'sea_level': 1012, 'grnd_level': 982, 'humidity': 50, 'temp_kf': 0}, 'weather': [{'id': 802, 'main': 'Clouds', 'description': 'scattered clouds', 'icon': '03d'}], 'clouds': {'all': 50}, 'wind': {'speed': 1.7, 'deg': 235, 'gust': 2.63}, 'visibility': 10000, 'pop': 0, 'sys': {'pod': 'd'}, 'dt_txt': '2021-09-06 15:00:00'}, {'dt': 1630951200, 'main': {'temp': 297.29, 'feels_like': 296.67, 'temp_min': 297.29, 'temp_max': 297.29, 'pressure': 1010, 'sea_level': 1010, 'grnd_level': 981, 'humidity': 35, 'temp_kf': 0}, 'weather': [{'id': 802, 'main': 'Clouds', 'description': 'scattered clouds', 'icon': '03d'}], 'clouds': {'all': 31}, 'wind': {'speed': 1.91, 'deg': 215, 'gust': 2.54}, 'visibility': 10000, 'pop': 0, 'sys': {'pod': 'd'}, 'dt_txt': '2021-09-06 18:00:00'}], 'city': {'id': 5037649, 'name': 'Minneapolis', 'coord': {'lat': 44.98, 'lon': -93.2638}, 'country': 'US', 'population': 382578, 'timezone': -18000, 'sunrise': 1630496137, 'sunset': 1630543844}}.\n"
     ]
    }
   ],
   "metadata": {}
  }
 ],
 "metadata": {
  "kernelspec": {
   "name": "python3",
   "display_name": "Python 3.8.11 64-bit ('PythonData': conda)"
  },
  "language_info": {
   "codemirror_mode": {
    "name": "ipython",
    "version": 3
   },
   "file_extension": ".py",
   "mimetype": "text/x-python",
   "name": "python",
   "nbconvert_exporter": "python",
   "pygments_lexer": "ipython3",
   "version": "3.8.11"
  },
  "varInspector": {
   "cols": {
    "lenName": 16,
    "lenType": 16,
    "lenVar": 40
   },
   "kernels_config": {
    "python": {
     "delete_cmd_postfix": "",
     "delete_cmd_prefix": "del ",
     "library": "var_list.py",
     "varRefreshCmd": "print(var_dic_list())"
    },
    "r": {
     "delete_cmd_postfix": ") ",
     "delete_cmd_prefix": "rm(",
     "library": "var_list.r",
     "varRefreshCmd": "cat(var_dic_list()) "
    }
   },
   "types_to_exclude": [
    "module",
    "function",
    "builtin_function_or_method",
    "instance",
    "_Feature"
   ],
   "window_display": false
  },
  "interpreter": {
   "hash": "ea77cb9fe7978b55bc0ec2e367e0d48a6f99004a47c1304b13a742f944930449"
  }
 },
 "nbformat": 4,
 "nbformat_minor": 2
}