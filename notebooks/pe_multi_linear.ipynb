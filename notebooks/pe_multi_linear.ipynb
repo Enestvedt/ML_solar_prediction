{
 "cells": [
  {
   "cell_type": "markdown",
   "source": [
    "# **Create ML Mulitple Linear Regression Model Using SciKit Learn and LaRC/NASA and Solar Output data**\n",
    "Output \"pe_trained_linear.pickle\" \n",
    "\n",
    "selected predictors:\n",
    "- month\n",
    "- hour\n",
    "- ALLSKY_SFC_SW_DWN\n",
    "- T2M\n",
    "- RH2M\n",
    "\n",
    "**Model Stats:**\n",
    "Training Score: .73\n",
    "Testing Score: .77\n"
   ],
   "metadata": {}
  },
  {
   "cell_type": "code",
   "execution_count": 1,
   "source": [
    "# dependencies\n",
    "import pandas as pd\n",
    "import numpy as np\n",
    "import pickle"
   ],
   "outputs": [],
   "metadata": {}
  },
  {
   "cell_type": "code",
   "execution_count": 2,
   "source": [
    "df = pd.read_csv('../csv_files/merged_data.csv')\n",
    "df"
   ],
   "outputs": [
    {
     "output_type": "execute_result",
     "data": {
      "text/html": [
       "<div>\n",
       "<style scoped>\n",
       "    .dataframe tbody tr th:only-of-type {\n",
       "        vertical-align: middle;\n",
       "    }\n",
       "\n",
       "    .dataframe tbody tr th {\n",
       "        vertical-align: top;\n",
       "    }\n",
       "\n",
       "    .dataframe thead th {\n",
       "        text-align: right;\n",
       "    }\n",
       "</style>\n",
       "<table border=\"1\" class=\"dataframe\">\n",
       "  <thead>\n",
       "    <tr style=\"text-align: right;\">\n",
       "      <th></th>\n",
       "      <th>Time</th>\n",
       "      <th>year</th>\n",
       "      <th>month</th>\n",
       "      <th>day</th>\n",
       "      <th>hour</th>\n",
       "      <th>ALLSKY_SFC_SW_DWN</th>\n",
       "      <th>ALLSKY_KT</th>\n",
       "      <th>ALLSKY_SRF_ALB</th>\n",
       "      <th>SZA</th>\n",
       "      <th>ALLSKY_SFC_PAR_TOT</th>\n",
       "      <th>ALLSKY_SFC_UVA</th>\n",
       "      <th>ALLSKY_SFC_UVB</th>\n",
       "      <th>ALLSKY_SFC_UV_INDEX</th>\n",
       "      <th>T2M</th>\n",
       "      <th>RH2M</th>\n",
       "      <th>PS</th>\n",
       "      <th>WD10M</th>\n",
       "      <th>Energy (Wh)</th>\n",
       "    </tr>\n",
       "  </thead>\n",
       "  <tbody>\n",
       "    <tr>\n",
       "      <th>0</th>\n",
       "      <td>2020-09-01 06:00:00</td>\n",
       "      <td>2020</td>\n",
       "      <td>9</td>\n",
       "      <td>1</td>\n",
       "      <td>6</td>\n",
       "      <td>46.21</td>\n",
       "      <td>0.22</td>\n",
       "      <td>0.15</td>\n",
       "      <td>81.06</td>\n",
       "      <td>19.95</td>\n",
       "      <td>2.57</td>\n",
       "      <td>0.01</td>\n",
       "      <td>0.05</td>\n",
       "      <td>12.11</td>\n",
       "      <td>77.25</td>\n",
       "      <td>97.98</td>\n",
       "      <td>218.33</td>\n",
       "      <td>0</td>\n",
       "    </tr>\n",
       "    <tr>\n",
       "      <th>1</th>\n",
       "      <td>2020-09-01 07:00:00</td>\n",
       "      <td>2020</td>\n",
       "      <td>9</td>\n",
       "      <td>1</td>\n",
       "      <td>7</td>\n",
       "      <td>163.04</td>\n",
       "      <td>0.38</td>\n",
       "      <td>0.15</td>\n",
       "      <td>70.91</td>\n",
       "      <td>68.50</td>\n",
       "      <td>8.83</td>\n",
       "      <td>0.08</td>\n",
       "      <td>0.38</td>\n",
       "      <td>13.30</td>\n",
       "      <td>71.88</td>\n",
       "      <td>98.04</td>\n",
       "      <td>210.81</td>\n",
       "      <td>213</td>\n",
       "    </tr>\n",
       "    <tr>\n",
       "      <th>2</th>\n",
       "      <td>2020-09-01 08:00:00</td>\n",
       "      <td>2020</td>\n",
       "      <td>9</td>\n",
       "      <td>1</td>\n",
       "      <td>8</td>\n",
       "      <td>284.90</td>\n",
       "      <td>0.44</td>\n",
       "      <td>0.16</td>\n",
       "      <td>60.56</td>\n",
       "      <td>124.40</td>\n",
       "      <td>16.55</td>\n",
       "      <td>0.25</td>\n",
       "      <td>1.23</td>\n",
       "      <td>14.30</td>\n",
       "      <td>68.19</td>\n",
       "      <td>98.03</td>\n",
       "      <td>201.18</td>\n",
       "      <td>622</td>\n",
       "    </tr>\n",
       "    <tr>\n",
       "      <th>3</th>\n",
       "      <td>2020-09-01 09:00:00</td>\n",
       "      <td>2020</td>\n",
       "      <td>9</td>\n",
       "      <td>1</td>\n",
       "      <td>9</td>\n",
       "      <td>393.73</td>\n",
       "      <td>0.47</td>\n",
       "      <td>0.12</td>\n",
       "      <td>51.03</td>\n",
       "      <td>171.62</td>\n",
       "      <td>22.79</td>\n",
       "      <td>0.46</td>\n",
       "      <td>2.30</td>\n",
       "      <td>15.26</td>\n",
       "      <td>66.00</td>\n",
       "      <td>98.02</td>\n",
       "      <td>195.21</td>\n",
       "      <td>1104</td>\n",
       "    </tr>\n",
       "    <tr>\n",
       "      <th>4</th>\n",
       "      <td>2020-09-01 10:00:00</td>\n",
       "      <td>2020</td>\n",
       "      <td>9</td>\n",
       "      <td>1</td>\n",
       "      <td>10</td>\n",
       "      <td>476.48</td>\n",
       "      <td>0.49</td>\n",
       "      <td>0.14</td>\n",
       "      <td>43.10</td>\n",
       "      <td>212.40</td>\n",
       "      <td>29.03</td>\n",
       "      <td>0.70</td>\n",
       "      <td>3.52</td>\n",
       "      <td>17.13</td>\n",
       "      <td>61.12</td>\n",
       "      <td>97.94</td>\n",
       "      <td>188.93</td>\n",
       "      <td>2455</td>\n",
       "    </tr>\n",
       "    <tr>\n",
       "      <th>...</th>\n",
       "      <td>...</td>\n",
       "      <td>...</td>\n",
       "      <td>...</td>\n",
       "      <td>...</td>\n",
       "      <td>...</td>\n",
       "      <td>...</td>\n",
       "      <td>...</td>\n",
       "      <td>...</td>\n",
       "      <td>...</td>\n",
       "      <td>...</td>\n",
       "      <td>...</td>\n",
       "      <td>...</td>\n",
       "      <td>...</td>\n",
       "      <td>...</td>\n",
       "      <td>...</td>\n",
       "      <td>...</td>\n",
       "      <td>...</td>\n",
       "      <td>...</td>\n",
       "    </tr>\n",
       "    <tr>\n",
       "      <th>12427</th>\n",
       "      <td>2020-08-31 15:00:00</td>\n",
       "      <td>2020</td>\n",
       "      <td>8</td>\n",
       "      <td>31</td>\n",
       "      <td>15</td>\n",
       "      <td>431.70</td>\n",
       "      <td>0.58</td>\n",
       "      <td>0.16</td>\n",
       "      <td>55.80</td>\n",
       "      <td>188.50</td>\n",
       "      <td>25.20</td>\n",
       "      <td>0.46</td>\n",
       "      <td>2.27</td>\n",
       "      <td>20.28</td>\n",
       "      <td>44.25</td>\n",
       "      <td>97.79</td>\n",
       "      <td>293.90</td>\n",
       "      <td>4883</td>\n",
       "    </tr>\n",
       "    <tr>\n",
       "      <th>12428</th>\n",
       "      <td>2020-08-31 16:00:00</td>\n",
       "      <td>2020</td>\n",
       "      <td>8</td>\n",
       "      <td>31</td>\n",
       "      <td>16</td>\n",
       "      <td>283.93</td>\n",
       "      <td>0.52</td>\n",
       "      <td>0.17</td>\n",
       "      <td>65.88</td>\n",
       "      <td>123.42</td>\n",
       "      <td>15.94</td>\n",
       "      <td>0.20</td>\n",
       "      <td>0.95</td>\n",
       "      <td>18.98</td>\n",
       "      <td>53.19</td>\n",
       "      <td>97.82</td>\n",
       "      <td>291.28</td>\n",
       "      <td>3906</td>\n",
       "    </tr>\n",
       "    <tr>\n",
       "      <th>12429</th>\n",
       "      <td>2020-08-31 17:00:00</td>\n",
       "      <td>2020</td>\n",
       "      <td>8</td>\n",
       "      <td>31</td>\n",
       "      <td>17</td>\n",
       "      <td>170.59</td>\n",
       "      <td>0.55</td>\n",
       "      <td>0.19</td>\n",
       "      <td>76.45</td>\n",
       "      <td>71.92</td>\n",
       "      <td>8.26</td>\n",
       "      <td>0.04</td>\n",
       "      <td>0.23</td>\n",
       "      <td>18.39</td>\n",
       "      <td>58.88</td>\n",
       "      <td>97.84</td>\n",
       "      <td>287.26</td>\n",
       "      <td>1432</td>\n",
       "    </tr>\n",
       "    <tr>\n",
       "      <th>12430</th>\n",
       "      <td>2020-08-31 18:00:00</td>\n",
       "      <td>2020</td>\n",
       "      <td>8</td>\n",
       "      <td>31</td>\n",
       "      <td>18</td>\n",
       "      <td>31.04</td>\n",
       "      <td>0.42</td>\n",
       "      <td>0.15</td>\n",
       "      <td>86.84</td>\n",
       "      <td>10.45</td>\n",
       "      <td>1.24</td>\n",
       "      <td>0.00</td>\n",
       "      <td>0.02</td>\n",
       "      <td>15.51</td>\n",
       "      <td>71.00</td>\n",
       "      <td>97.87</td>\n",
       "      <td>283.99</td>\n",
       "      <td>654</td>\n",
       "    </tr>\n",
       "    <tr>\n",
       "      <th>12431</th>\n",
       "      <td>2020-08-31 19:00:00</td>\n",
       "      <td>2020</td>\n",
       "      <td>8</td>\n",
       "      <td>31</td>\n",
       "      <td>19</td>\n",
       "      <td>0.00</td>\n",
       "      <td>-999.00</td>\n",
       "      <td>-999.00</td>\n",
       "      <td>90.00</td>\n",
       "      <td>0.00</td>\n",
       "      <td>0.00</td>\n",
       "      <td>0.00</td>\n",
       "      <td>0.00</td>\n",
       "      <td>13.58</td>\n",
       "      <td>73.56</td>\n",
       "      <td>97.90</td>\n",
       "      <td>282.99</td>\n",
       "      <td>115</td>\n",
       "    </tr>\n",
       "  </tbody>\n",
       "</table>\n",
       "<p>12432 rows × 18 columns</p>\n",
       "</div>"
      ],
      "text/plain": [
       "                      Time  year  month  day  hour  ALLSKY_SFC_SW_DWN  \\\n",
       "0      2020-09-01 06:00:00  2020      9    1     6              46.21   \n",
       "1      2020-09-01 07:00:00  2020      9    1     7             163.04   \n",
       "2      2020-09-01 08:00:00  2020      9    1     8             284.90   \n",
       "3      2020-09-01 09:00:00  2020      9    1     9             393.73   \n",
       "4      2020-09-01 10:00:00  2020      9    1    10             476.48   \n",
       "...                    ...   ...    ...  ...   ...                ...   \n",
       "12427  2020-08-31 15:00:00  2020      8   31    15             431.70   \n",
       "12428  2020-08-31 16:00:00  2020      8   31    16             283.93   \n",
       "12429  2020-08-31 17:00:00  2020      8   31    17             170.59   \n",
       "12430  2020-08-31 18:00:00  2020      8   31    18              31.04   \n",
       "12431  2020-08-31 19:00:00  2020      8   31    19               0.00   \n",
       "\n",
       "       ALLSKY_KT  ALLSKY_SRF_ALB    SZA  ALLSKY_SFC_PAR_TOT  ALLSKY_SFC_UVA  \\\n",
       "0           0.22            0.15  81.06               19.95            2.57   \n",
       "1           0.38            0.15  70.91               68.50            8.83   \n",
       "2           0.44            0.16  60.56              124.40           16.55   \n",
       "3           0.47            0.12  51.03              171.62           22.79   \n",
       "4           0.49            0.14  43.10              212.40           29.03   \n",
       "...          ...             ...    ...                 ...             ...   \n",
       "12427       0.58            0.16  55.80              188.50           25.20   \n",
       "12428       0.52            0.17  65.88              123.42           15.94   \n",
       "12429       0.55            0.19  76.45               71.92            8.26   \n",
       "12430       0.42            0.15  86.84               10.45            1.24   \n",
       "12431    -999.00         -999.00  90.00                0.00            0.00   \n",
       "\n",
       "       ALLSKY_SFC_UVB  ALLSKY_SFC_UV_INDEX    T2M   RH2M     PS   WD10M  \\\n",
       "0                0.01                 0.05  12.11  77.25  97.98  218.33   \n",
       "1                0.08                 0.38  13.30  71.88  98.04  210.81   \n",
       "2                0.25                 1.23  14.30  68.19  98.03  201.18   \n",
       "3                0.46                 2.30  15.26  66.00  98.02  195.21   \n",
       "4                0.70                 3.52  17.13  61.12  97.94  188.93   \n",
       "...               ...                  ...    ...    ...    ...     ...   \n",
       "12427            0.46                 2.27  20.28  44.25  97.79  293.90   \n",
       "12428            0.20                 0.95  18.98  53.19  97.82  291.28   \n",
       "12429            0.04                 0.23  18.39  58.88  97.84  287.26   \n",
       "12430            0.00                 0.02  15.51  71.00  97.87  283.99   \n",
       "12431            0.00                 0.00  13.58  73.56  97.90  282.99   \n",
       "\n",
       "       Energy (Wh)  \n",
       "0                0  \n",
       "1              213  \n",
       "2              622  \n",
       "3             1104  \n",
       "4             2455  \n",
       "...            ...  \n",
       "12427         4883  \n",
       "12428         3906  \n",
       "12429         1432  \n",
       "12430          654  \n",
       "12431          115  \n",
       "\n",
       "[12432 rows x 18 columns]"
      ]
     },
     "metadata": {},
     "execution_count": 2
    }
   ],
   "metadata": {}
  },
  {
   "cell_type": "code",
   "execution_count": 3,
   "source": [
    "# -999 signifies Nan - this is for hours outside of solar production range.  They are not necessary for the model.\n",
    "clean_data = df[~df.eq(-999).any(1)]"
   ],
   "outputs": [],
   "metadata": {}
  },
  {
   "cell_type": "code",
   "execution_count": 4,
   "source": [
    "# played with different predictors and settled on these\n",
    "X = clean_data[[\n",
    "    'month',\n",
    "    # 'day',\n",
    "    'hour',\n",
    "    'ALLSKY_SFC_SW_DWN',\n",
    "    # 'ALLSKY_KT',\n",
    "    # 'SZA',\n",
    "    'T2M',\n",
    "    'RH2M'\n",
    "    ]]\n",
    "y = clean_data[\"Energy (Wh)\"].values.reshape(-1, 1)\n",
    "print(X.shape, y.shape)"
   ],
   "outputs": [
    {
     "output_type": "stream",
     "name": "stdout",
     "text": [
      "(9162, 5) (9162, 1)\n"
     ]
    }
   ],
   "metadata": {}
  },
  {
   "cell_type": "code",
   "execution_count": 5,
   "source": [
    "# set up training and testing data for scikit learn model\n",
    "from sklearn.model_selection import train_test_split\n",
    "\n",
    "X_train, X_test, y_train, y_test = train_test_split(X, y, random_state=42)"
   ],
   "outputs": [],
   "metadata": {}
  },
  {
   "cell_type": "code",
   "execution_count": 6,
   "source": [
    "# create model\n",
    "from sklearn.linear_model import LinearRegression\n",
    "model = LinearRegression()"
   ],
   "outputs": [],
   "metadata": {}
  },
  {
   "cell_type": "code",
   "execution_count": 7,
   "source": [
    "# fit model \n",
    "model.fit(X_train, y_train)\n",
    "training_score = model.score(X_train, y_train)\n",
    "testing_score = model.score(X_test, y_test)\n",
    "\n",
    "\n",
    "print(f\"Training Score: {training_score}\")\n",
    "print(f\"Testing Score: {testing_score}\")"
   ],
   "outputs": [
    {
     "output_type": "stream",
     "name": "stdout",
     "text": [
      "Training Score: 0.7321649824682421\n",
      "Testing Score: 0.7719649100945807\n"
     ]
    }
   ],
   "metadata": {}
  },
  {
   "cell_type": "code",
   "execution_count": 8,
   "source": [
    "# export the model\n",
    "with open('pe_trained_linear.pickle', 'wb') as file:\n",
    "    pickle.dump(model, file)"
   ],
   "outputs": [],
   "metadata": {}
  },
  {
   "cell_type": "code",
   "execution_count": 8,
   "source": [
    "# plot inline and import dependencies\n",
    "%matplotlib inline\n",
    "import matplotlib.pyplot as plt"
   ],
   "outputs": [],
   "metadata": {}
  },
  {
   "cell_type": "code",
   "execution_count": 9,
   "source": [
    "plt.scatter(model.predict(X_train), model.predict(X_train) - y_train, c=\"blue\", label=\"Training Data\")\n",
    "plt.scatter(model.predict(X_test), model.predict(X_test) - y_test, c=\"orange\", label=\"Testing Data\")\n",
    "plt.legend()\n",
    "plt.hlines(y=0, xmin=y.min(), xmax=y.max())\n",
    "plt.title(\"Residual Plot\")"
   ],
   "outputs": [
    {
     "output_type": "execute_result",
     "data": {
      "text/plain": [
       "Text(0.5, 1.0, 'Residual Plot')"
      ]
     },
     "metadata": {},
     "execution_count": 9
    },
    {
     "output_type": "display_data",
     "data": {
      "image/png": "[encoded data removed]",
      "text/plain": [
       "<Figure size 432x288 with 1 Axes>"
      ]
     },
     "metadata": {
      "needs_background": "light"
     }
    }
   ],
   "metadata": {}
  },
  {
   "cell_type": "code",
   "execution_count": 10,
   "source": [
    "# import the model and test it\n",
    "with open ('pe_trained_linear.pickle', 'rb') as file:\n",
    "    loaded_model = pickle.load(file)"
   ],
   "outputs": [],
   "metadata": {}
  },
  {
   "cell_type": "code",
   "execution_count": 11,
   "source": [
    "# test if model works\n",
    "plt.scatter(loaded_model.predict(X_train), loaded_model.predict(X_train) - y_train, c=\"blue\", label=\"Training Data\")\n",
    "plt.scatter(loaded_model.predict(X_test), loaded_model.predict(X_test) - y_test, c=\"orange\", label=\"Testing Data\")\n",
    "plt.legend()\n",
    "plt.hlines(y=0, xmin=y.min(), xmax=y.max())\n",
    "plt.title(\"Residual Plot\")"
   ],
   "outputs": [
    {
     "output_type": "execute_result",
     "data": {
      "text/plain": [
       "Text(0.5, 1.0, 'Residual Plot')"
      ]
     },
     "metadata": {},
     "execution_count": 11
    },
    {
     "output_type": "display_data",
     "data": {
      "image/png": "[encoded data removed]",
      "text/plain": [
       "<Figure size 432x288 with 1 Axes>"
      ]
     },
     "metadata": {
      "needs_background": "light"
     }
    }
   ],
   "metadata": {}
  },
  {
   "cell_type": "code",
   "execution_count": 12,
   "source": [
    "# test model with my own imput - make sure it will work in api\n",
    "# month\": 9, \"hour\": 3, \"ALLSKY_SFC_SW_DWN\": 0.0, \"T2M\": 6.78, \"RH2M\": 86.44\n",
    "p_values = [[9, 6, 32.48, 5.61, 88.38]]\n",
    "loaded_model.predict(p_values)"
   ],
   "outputs": [
    {
     "output_type": "execute_result",
     "data": {
      "text/plain": [
       "array([[-839.41946945]])"
      ]
     },
     "metadata": {},
     "execution_count": 12
    }
   ],
   "metadata": {}
  },
  {
   "cell_type": "code",
   "execution_count": 13,
   "source": [
    "# the model returns some negative values - I will need to convert these returns to 0 in the application as it is not possible to return negative energy\n",
    "min(loaded_model.predict(X_train))"
   ],
   "outputs": [
    {
     "output_type": "execute_result",
     "data": {
      "text/plain": [
       "array([-1522.28236303])"
      ]
     },
     "metadata": {},
     "execution_count": 13
    }
   ],
   "metadata": {}
  },
  {
   "cell_type": "code",
   "execution_count": 14,
   "source": [
    "# verify that negative values do not exist in output data - they do not\n",
    "min(df['Energy (Wh)'])"
   ],
   "outputs": [
    {
     "output_type": "execute_result",
     "data": {
      "text/plain": [
       "0"
      ]
     },
     "metadata": {},
     "execution_count": 14
    }
   ],
   "metadata": {}
  }
 ],
 "metadata": {
  "interpreter": {
   "hash": "ea77cb9fe7978b55bc0ec2e367e0d48a6f99004a47c1304b13a742f944930449"
  },
  "kernelspec": {
   "name": "python3",
   "display_name": "Python 3.8.11 64-bit ('PythonData': conda)"
  },
  "language_info": {
   "codemirror_mode": {
    "name": "ipython",
    "version": 3
   },
   "file_extension": ".py",
   "mimetype": "text/x-python",
   "name": "python",
   "nbconvert_exporter": "python",
   "pygments_lexer": "ipython3",
   "version": "3.8.11"
  }
 },
 "nbformat": 4,
 "nbformat_minor": 2
}